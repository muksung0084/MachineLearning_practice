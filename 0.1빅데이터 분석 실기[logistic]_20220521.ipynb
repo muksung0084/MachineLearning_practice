{
 "cells": [
  {
   "cell_type": "code",
   "execution_count": 82,
   "id": "34b35a58-62b3-405b-9c0c-61e1a4e783ce",
   "metadata": {},
   "outputs": [],
   "source": [
    "import pandas as pd\n",
    "import numpy as np \n",
    "import warnings\n",
    "warnings.filterwarnings('ignore')"
   ]
  },
  {
   "cell_type": "markdown",
   "id": "b52b4188-6aa5-47ea-9c3f-cf0528ca6cd2",
   "metadata": {
    "tags": []
   },
   "source": [
    "#  <span style=\"color:yellow\"> <font size=\"5\">#logistic regression model  </span> </font>  "
   ]
  },
  {
   "cell_type": "markdown",
   "id": "5552e808-4ee3-4faa-b223-123d2f20a2ed",
   "metadata": {
    "jp-MarkdownHeadingCollapsed": true,
    "tags": []
   },
   "source": [
    "### 1. 데이터 형태 파악 및 x,y 구분 "
   ]
  },
  {
   "cell_type": "code",
   "execution_count": 3,
   "id": "4f5643bb-c905-4186-8bc2-018a27e35779",
   "metadata": {
    "tags": []
   },
   "outputs": [],
   "source": [
    "data = pd.read_csv('breast-cancer-wisconsin.csv')"
   ]
  },
  {
   "cell_type": "code",
   "execution_count": 5,
   "id": "2790f771-318f-443f-8c00-8a3265a73ffe",
   "metadata": {},
   "outputs": [
    {
     "data": {
      "text/plain": [
       "0    444\n",
       "1    239\n",
       "Name: Class, dtype: int64"
      ]
     },
     "execution_count": 5,
     "metadata": {},
     "output_type": "execute_result"
    }
   ],
   "source": [
    "data['Class'].value_counts()"
   ]
  },
  {
   "cell_type": "code",
   "execution_count": 6,
   "id": "4f1770b0-8744-42c4-94ec-1368ed5181b1",
   "metadata": {},
   "outputs": [
    {
     "name": "stdout",
     "output_type": "stream",
     "text": [
      "(683, 11)\n"
     ]
    }
   ],
   "source": [
    "print(data.shape)"
   ]
  },
  {
   "cell_type": "code",
   "execution_count": 8,
   "id": "bfc5ed78-d4b1-4702-9d19-fe369698a9b7",
   "metadata": {},
   "outputs": [],
   "source": [
    "X1 = data [['Clump_Thickness', 'Cell_Size', 'Cell_Shape','Marginal_Adhesion', 'Single_Epithelial_Cell_Size', 'Bare_Nuclei', 'Bland_Chromatin', 'Normal_Nucleoli', 'Mitoses']]\n",
    "y = data[['Class']] # 컬럼 1개일때, [[]] 해줘야 Dataframe 형태로 저장됨.  [] 하나로 하면 Series 형태로 저장됨. "
   ]
  },
  {
   "cell_type": "code",
   "execution_count": 10,
   "id": "40c57ede-8192-4b88-ab0d-8e46f4ce1f1f",
   "metadata": {},
   "outputs": [
    {
     "name": "stdout",
     "output_type": "stream",
     "text": [
      "(683, 9)\n",
      "(683, 1)\n"
     ]
    }
   ],
   "source": [
    "print(X1.shape)\n",
    "print(y.shape)"
   ]
  },
  {
   "cell_type": "markdown",
   "id": "e302c0d3-5370-4f35-8894-828c983aefe5",
   "metadata": {
    "tags": []
   },
   "source": [
    "### 2. train - test 데이터 셋 나누기 "
   ]
  },
  {
   "cell_type": "code",
   "execution_count": 11,
   "id": "d727f03d-6b3e-4b71-8b63-faf310264402",
   "metadata": {},
   "outputs": [],
   "source": [
    "from sklearn.model_selection import train_test_split"
   ]
  },
  {
   "cell_type": "code",
   "execution_count": 37,
   "id": "1ee63557-6355-4d1a-befa-158dfc1e87e7",
   "metadata": {},
   "outputs": [],
   "source": [
    "x_train ,x_test ,y_train ,y_test = train_test_split(X1,y, stratify = y , random_state =42 )"
   ]
  },
  {
   "cell_type": "code",
   "execution_count": 38,
   "id": "d2f6c489-e759-481d-8794-e66c2018f255",
   "metadata": {},
   "outputs": [
    {
     "name": "stdout",
     "output_type": "stream",
     "text": [
      "Class    0.349609\n",
      "dtype: float64\n",
      "Class    0.350877\n",
      "dtype: float64\n"
     ]
    }
   ],
   "source": [
    "print(y_train.mean())\n",
    "print(y_test.mean())"
   ]
  },
  {
   "cell_type": "markdown",
   "id": "753e1570-8a5f-47f1-a982-912f11422477",
   "metadata": {
    "tags": []
   },
   "source": [
    "### 3. 정규화 "
   ]
  },
  {
   "cell_type": "code",
   "execution_count": 21,
   "id": "e7f9e389-9db9-4359-9697-d92fe5c9f86f",
   "metadata": {},
   "outputs": [],
   "source": [
    "from sklearn.preprocessing import MinMaxScaler \n",
    "from sklearn.preprocessing import StandardScaler"
   ]
  },
  {
   "cell_type": "markdown",
   "id": "f05205da-27fe-404a-9729-4f9b25eb55b1",
   "metadata": {
    "jp-MarkdownHeadingCollapsed": true,
    "tags": []
   },
   "source": [
    "#### min-max reg"
   ]
  },
  {
   "cell_type": "code",
   "execution_count": 39,
   "id": "4cee4047-b3ac-44dc-bf0e-9350e10b4898",
   "metadata": {},
   "outputs": [],
   "source": [
    "# min-max 정규화 \n",
    "scaler_minmax = MinMaxScaler()"
   ]
  },
  {
   "cell_type": "code",
   "execution_count": 40,
   "id": "91f3a361-91e1-44a8-99e2-97d03aa22293",
   "metadata": {},
   "outputs": [
    {
     "data": {
      "text/html": [
       "<div>\n",
       "<style scoped>\n",
       "    .dataframe tbody tr th:only-of-type {\n",
       "        vertical-align: middle;\n",
       "    }\n",
       "\n",
       "    .dataframe tbody tr th {\n",
       "        vertical-align: top;\n",
       "    }\n",
       "\n",
       "    .dataframe thead th {\n",
       "        text-align: right;\n",
       "    }\n",
       "</style>\n",
       "<table border=\"1\" class=\"dataframe\">\n",
       "  <thead>\n",
       "    <tr style=\"text-align: right;\">\n",
       "      <th></th>\n",
       "      <th>0</th>\n",
       "      <th>1</th>\n",
       "      <th>2</th>\n",
       "      <th>3</th>\n",
       "      <th>4</th>\n",
       "      <th>5</th>\n",
       "      <th>6</th>\n",
       "      <th>7</th>\n",
       "      <th>8</th>\n",
       "    </tr>\n",
       "  </thead>\n",
       "  <tbody>\n",
       "    <tr>\n",
       "      <th>count</th>\n",
       "      <td>512.000000</td>\n",
       "      <td>512.000000</td>\n",
       "      <td>512.000000</td>\n",
       "      <td>512.000000</td>\n",
       "      <td>512.000000</td>\n",
       "      <td>512.000000</td>\n",
       "      <td>512.000000</td>\n",
       "      <td>512.000000</td>\n",
       "      <td>512.000000</td>\n",
       "    </tr>\n",
       "    <tr>\n",
       "      <th>mean</th>\n",
       "      <td>0.372830</td>\n",
       "      <td>0.231988</td>\n",
       "      <td>0.242839</td>\n",
       "      <td>0.205078</td>\n",
       "      <td>0.241319</td>\n",
       "      <td>0.285590</td>\n",
       "      <td>0.269314</td>\n",
       "      <td>0.199002</td>\n",
       "      <td>0.067491</td>\n",
       "    </tr>\n",
       "    <tr>\n",
       "      <th>std</th>\n",
       "      <td>0.317836</td>\n",
       "      <td>0.334781</td>\n",
       "      <td>0.332112</td>\n",
       "      <td>0.319561</td>\n",
       "      <td>0.242541</td>\n",
       "      <td>0.404890</td>\n",
       "      <td>0.265289</td>\n",
       "      <td>0.331503</td>\n",
       "      <td>0.190373</td>\n",
       "    </tr>\n",
       "    <tr>\n",
       "      <th>min</th>\n",
       "      <td>0.000000</td>\n",
       "      <td>0.000000</td>\n",
       "      <td>0.000000</td>\n",
       "      <td>0.000000</td>\n",
       "      <td>0.000000</td>\n",
       "      <td>0.000000</td>\n",
       "      <td>0.000000</td>\n",
       "      <td>0.000000</td>\n",
       "      <td>0.000000</td>\n",
       "    </tr>\n",
       "    <tr>\n",
       "      <th>25%</th>\n",
       "      <td>0.111111</td>\n",
       "      <td>0.000000</td>\n",
       "      <td>0.000000</td>\n",
       "      <td>0.000000</td>\n",
       "      <td>0.111111</td>\n",
       "      <td>0.000000</td>\n",
       "      <td>0.111111</td>\n",
       "      <td>0.000000</td>\n",
       "      <td>0.000000</td>\n",
       "    </tr>\n",
       "    <tr>\n",
       "      <th>50%</th>\n",
       "      <td>0.333333</td>\n",
       "      <td>0.000000</td>\n",
       "      <td>0.000000</td>\n",
       "      <td>0.000000</td>\n",
       "      <td>0.111111</td>\n",
       "      <td>0.000000</td>\n",
       "      <td>0.222222</td>\n",
       "      <td>0.000000</td>\n",
       "      <td>0.000000</td>\n",
       "    </tr>\n",
       "    <tr>\n",
       "      <th>75%</th>\n",
       "      <td>0.555556</td>\n",
       "      <td>0.361111</td>\n",
       "      <td>0.444444</td>\n",
       "      <td>0.333333</td>\n",
       "      <td>0.333333</td>\n",
       "      <td>0.583333</td>\n",
       "      <td>0.444444</td>\n",
       "      <td>0.222222</td>\n",
       "      <td>0.000000</td>\n",
       "    </tr>\n",
       "    <tr>\n",
       "      <th>max</th>\n",
       "      <td>1.000000</td>\n",
       "      <td>1.000000</td>\n",
       "      <td>1.000000</td>\n",
       "      <td>1.000000</td>\n",
       "      <td>1.000000</td>\n",
       "      <td>1.000000</td>\n",
       "      <td>1.000000</td>\n",
       "      <td>1.000000</td>\n",
       "      <td>1.000000</td>\n",
       "    </tr>\n",
       "  </tbody>\n",
       "</table>\n",
       "</div>"
      ],
      "text/plain": [
       "                0           1           2           3           4           5  \\\n",
       "count  512.000000  512.000000  512.000000  512.000000  512.000000  512.000000   \n",
       "mean     0.372830    0.231988    0.242839    0.205078    0.241319    0.285590   \n",
       "std      0.317836    0.334781    0.332112    0.319561    0.242541    0.404890   \n",
       "min      0.000000    0.000000    0.000000    0.000000    0.000000    0.000000   \n",
       "25%      0.111111    0.000000    0.000000    0.000000    0.111111    0.000000   \n",
       "50%      0.333333    0.000000    0.000000    0.000000    0.111111    0.000000   \n",
       "75%      0.555556    0.361111    0.444444    0.333333    0.333333    0.583333   \n",
       "max      1.000000    1.000000    1.000000    1.000000    1.000000    1.000000   \n",
       "\n",
       "                6           7           8  \n",
       "count  512.000000  512.000000  512.000000  \n",
       "mean     0.269314    0.199002    0.067491  \n",
       "std      0.265289    0.331503    0.190373  \n",
       "min      0.000000    0.000000    0.000000  \n",
       "25%      0.111111    0.000000    0.000000  \n",
       "50%      0.222222    0.000000    0.000000  \n",
       "75%      0.444444    0.222222    0.000000  \n",
       "max      1.000000    1.000000    1.000000  "
      ]
     },
     "execution_count": 40,
     "metadata": {},
     "output_type": "execute_result"
    }
   ],
   "source": [
    "scaler_minmax.fit(x_train)\n",
    "x_scaler_minmax_train = scaler_minmax.transform(x_train)\n",
    "pd.DataFrame(x_scaler_minmax_train).describe()"
   ]
  },
  {
   "cell_type": "code",
   "execution_count": 41,
   "id": "b321da56-81f5-483e-8721-e43e3b93028b",
   "metadata": {},
   "outputs": [
    {
     "data": {
      "text/html": [
       "<div>\n",
       "<style scoped>\n",
       "    .dataframe tbody tr th:only-of-type {\n",
       "        vertical-align: middle;\n",
       "    }\n",
       "\n",
       "    .dataframe tbody tr th {\n",
       "        vertical-align: top;\n",
       "    }\n",
       "\n",
       "    .dataframe thead th {\n",
       "        text-align: right;\n",
       "    }\n",
       "</style>\n",
       "<table border=\"1\" class=\"dataframe\">\n",
       "  <thead>\n",
       "    <tr style=\"text-align: right;\">\n",
       "      <th></th>\n",
       "      <th>0</th>\n",
       "      <th>1</th>\n",
       "      <th>2</th>\n",
       "      <th>3</th>\n",
       "      <th>4</th>\n",
       "      <th>5</th>\n",
       "      <th>6</th>\n",
       "      <th>7</th>\n",
       "      <th>8</th>\n",
       "    </tr>\n",
       "  </thead>\n",
       "  <tbody>\n",
       "    <tr>\n",
       "      <th>count</th>\n",
       "      <td>171.000000</td>\n",
       "      <td>171.000000</td>\n",
       "      <td>171.000000</td>\n",
       "      <td>171.000000</td>\n",
       "      <td>171.000000</td>\n",
       "      <td>171.000000</td>\n",
       "      <td>171.000000</td>\n",
       "      <td>171.000000</td>\n",
       "      <td>171.000000</td>\n",
       "    </tr>\n",
       "    <tr>\n",
       "      <th>mean</th>\n",
       "      <td>0.411306</td>\n",
       "      <td>0.259909</td>\n",
       "      <td>0.256010</td>\n",
       "      <td>0.198181</td>\n",
       "      <td>0.269006</td>\n",
       "      <td>0.274204</td>\n",
       "      <td>0.278752</td>\n",
       "      <td>0.233918</td>\n",
       "      <td>0.065627</td>\n",
       "    </tr>\n",
       "    <tr>\n",
       "      <th>std</th>\n",
       "      <td>0.298847</td>\n",
       "      <td>0.357544</td>\n",
       "      <td>0.332700</td>\n",
       "      <td>0.315307</td>\n",
       "      <td>0.259557</td>\n",
       "      <td>0.405891</td>\n",
       "      <td>0.292578</td>\n",
       "      <td>0.360958</td>\n",
       "      <td>0.199372</td>\n",
       "    </tr>\n",
       "    <tr>\n",
       "      <th>min</th>\n",
       "      <td>0.000000</td>\n",
       "      <td>0.000000</td>\n",
       "      <td>0.000000</td>\n",
       "      <td>0.000000</td>\n",
       "      <td>0.000000</td>\n",
       "      <td>0.000000</td>\n",
       "      <td>0.000000</td>\n",
       "      <td>0.000000</td>\n",
       "      <td>0.000000</td>\n",
       "    </tr>\n",
       "    <tr>\n",
       "      <th>25%</th>\n",
       "      <td>0.222222</td>\n",
       "      <td>0.000000</td>\n",
       "      <td>0.000000</td>\n",
       "      <td>0.000000</td>\n",
       "      <td>0.111111</td>\n",
       "      <td>0.000000</td>\n",
       "      <td>0.000000</td>\n",
       "      <td>0.000000</td>\n",
       "      <td>0.000000</td>\n",
       "    </tr>\n",
       "    <tr>\n",
       "      <th>50%</th>\n",
       "      <td>0.444444</td>\n",
       "      <td>0.000000</td>\n",
       "      <td>0.111111</td>\n",
       "      <td>0.000000</td>\n",
       "      <td>0.111111</td>\n",
       "      <td>0.000000</td>\n",
       "      <td>0.222222</td>\n",
       "      <td>0.000000</td>\n",
       "      <td>0.000000</td>\n",
       "    </tr>\n",
       "    <tr>\n",
       "      <th>75%</th>\n",
       "      <td>0.555556</td>\n",
       "      <td>0.444444</td>\n",
       "      <td>0.444444</td>\n",
       "      <td>0.222222</td>\n",
       "      <td>0.388889</td>\n",
       "      <td>0.444444</td>\n",
       "      <td>0.444444</td>\n",
       "      <td>0.388889</td>\n",
       "      <td>0.000000</td>\n",
       "    </tr>\n",
       "    <tr>\n",
       "      <th>max</th>\n",
       "      <td>1.000000</td>\n",
       "      <td>1.000000</td>\n",
       "      <td>1.000000</td>\n",
       "      <td>1.000000</td>\n",
       "      <td>1.000000</td>\n",
       "      <td>1.000000</td>\n",
       "      <td>1.000000</td>\n",
       "      <td>1.000000</td>\n",
       "      <td>1.000000</td>\n",
       "    </tr>\n",
       "  </tbody>\n",
       "</table>\n",
       "</div>"
      ],
      "text/plain": [
       "                0           1           2           3           4           5  \\\n",
       "count  171.000000  171.000000  171.000000  171.000000  171.000000  171.000000   \n",
       "mean     0.411306    0.259909    0.256010    0.198181    0.269006    0.274204   \n",
       "std      0.298847    0.357544    0.332700    0.315307    0.259557    0.405891   \n",
       "min      0.000000    0.000000    0.000000    0.000000    0.000000    0.000000   \n",
       "25%      0.222222    0.000000    0.000000    0.000000    0.111111    0.000000   \n",
       "50%      0.444444    0.000000    0.111111    0.000000    0.111111    0.000000   \n",
       "75%      0.555556    0.444444    0.444444    0.222222    0.388889    0.444444   \n",
       "max      1.000000    1.000000    1.000000    1.000000    1.000000    1.000000   \n",
       "\n",
       "                6           7           8  \n",
       "count  171.000000  171.000000  171.000000  \n",
       "mean     0.278752    0.233918    0.065627  \n",
       "std      0.292578    0.360958    0.199372  \n",
       "min      0.000000    0.000000    0.000000  \n",
       "25%      0.000000    0.000000    0.000000  \n",
       "50%      0.222222    0.000000    0.000000  \n",
       "75%      0.444444    0.388889    0.000000  \n",
       "max      1.000000    1.000000    1.000000  "
      ]
     },
     "execution_count": 41,
     "metadata": {},
     "output_type": "execute_result"
    }
   ],
   "source": [
    "#scaler_minmax.fit() \n",
    "  #[ 데이터의 정규화에서는 변환기준이 TRAIN DATA SET을 기준으로 적용됨, 따라서 fit에서 train데이터를 기준으로 데이터셋의 정규화 기준이 기억되고\n",
    "x_scaler_minmax_test = scaler_minmax.transform(x_test)\n",
    "pd.DataFrame(x_scaler_minmax_test).describe()"
   ]
  },
  {
   "cell_type": "markdown",
   "id": "0ddec0b3-8bed-426a-8580-649a8c6f5fcf",
   "metadata": {
    "jp-MarkdownHeadingCollapsed": true,
    "tags": []
   },
   "source": [
    "#### standard - reg"
   ]
  },
  {
   "cell_type": "code",
   "execution_count": 42,
   "id": "b54d2581-8d89-4b9a-8bcd-775a152da99c",
   "metadata": {},
   "outputs": [],
   "source": [
    "# 표준 정규화\n",
    "scaler_standard = StandardScaler()"
   ]
  },
  {
   "cell_type": "code",
   "execution_count": 45,
   "id": "ee749047-1a5a-420b-ab8d-4f2e655c24d2",
   "metadata": {},
   "outputs": [
    {
     "data": {
      "text/html": [
       "<div>\n",
       "<style scoped>\n",
       "    .dataframe tbody tr th:only-of-type {\n",
       "        vertical-align: middle;\n",
       "    }\n",
       "\n",
       "    .dataframe tbody tr th {\n",
       "        vertical-align: top;\n",
       "    }\n",
       "\n",
       "    .dataframe thead th {\n",
       "        text-align: right;\n",
       "    }\n",
       "</style>\n",
       "<table border=\"1\" class=\"dataframe\">\n",
       "  <thead>\n",
       "    <tr style=\"text-align: right;\">\n",
       "      <th></th>\n",
       "      <th>0</th>\n",
       "      <th>1</th>\n",
       "      <th>2</th>\n",
       "      <th>3</th>\n",
       "      <th>4</th>\n",
       "      <th>5</th>\n",
       "      <th>6</th>\n",
       "      <th>7</th>\n",
       "      <th>8</th>\n",
       "    </tr>\n",
       "  </thead>\n",
       "  <tbody>\n",
       "    <tr>\n",
       "      <th>count</th>\n",
       "      <td>1.710000e+02</td>\n",
       "      <td>1.710000e+02</td>\n",
       "      <td>1.710000e+02</td>\n",
       "      <td>1.710000e+02</td>\n",
       "      <td>1.710000e+02</td>\n",
       "      <td>1.710000e+02</td>\n",
       "      <td>1.710000e+02</td>\n",
       "      <td>1.710000e+02</td>\n",
       "      <td>1.710000e+02</td>\n",
       "    </tr>\n",
       "    <tr>\n",
       "      <th>mean</th>\n",
       "      <td>1.547657e-16</td>\n",
       "      <td>-1.168656e-17</td>\n",
       "      <td>-1.817909e-17</td>\n",
       "      <td>2.986565e-17</td>\n",
       "      <td>1.077760e-16</td>\n",
       "      <td>-8.699993e-17</td>\n",
       "      <td>1.834140e-17</td>\n",
       "      <td>-9.771261e-17</td>\n",
       "      <td>-2.791789e-17</td>\n",
       "    </tr>\n",
       "    <tr>\n",
       "      <th>std</th>\n",
       "      <td>1.002937e+00</td>\n",
       "      <td>1.002937e+00</td>\n",
       "      <td>1.002937e+00</td>\n",
       "      <td>1.002937e+00</td>\n",
       "      <td>1.002937e+00</td>\n",
       "      <td>1.002937e+00</td>\n",
       "      <td>1.002937e+00</td>\n",
       "      <td>1.002937e+00</td>\n",
       "      <td>1.002937e+00</td>\n",
       "    </tr>\n",
       "    <tr>\n",
       "      <th>min</th>\n",
       "      <td>-1.212273e+00</td>\n",
       "      <td>-7.078056e-01</td>\n",
       "      <td>-7.471015e-01</td>\n",
       "      <td>-6.285647e-01</td>\n",
       "      <td>-1.013387e+00</td>\n",
       "      <td>-7.068043e-01</td>\n",
       "      <td>-9.500202e-01</td>\n",
       "      <td>-6.348652e-01</td>\n",
       "      <td>-3.663175e-01</td>\n",
       "    </tr>\n",
       "    <tr>\n",
       "      <th>25%</th>\n",
       "      <td>-8.447219e-01</td>\n",
       "      <td>-7.078056e-01</td>\n",
       "      <td>-7.471015e-01</td>\n",
       "      <td>-6.285647e-01</td>\n",
       "      <td>-5.621129e-01</td>\n",
       "      <td>-7.068043e-01</td>\n",
       "      <td>-9.500202e-01</td>\n",
       "      <td>-6.348652e-01</td>\n",
       "      <td>-3.663175e-01</td>\n",
       "    </tr>\n",
       "    <tr>\n",
       "      <th>50%</th>\n",
       "      <td>-1.096204e-01</td>\n",
       "      <td>-7.078056e-01</td>\n",
       "      <td>-7.471015e-01</td>\n",
       "      <td>-6.285647e-01</td>\n",
       "      <td>-5.621129e-01</td>\n",
       "      <td>-7.068043e-01</td>\n",
       "      <td>-5.498885e-01</td>\n",
       "      <td>-6.348652e-01</td>\n",
       "      <td>-3.663175e-01</td>\n",
       "    </tr>\n",
       "    <tr>\n",
       "      <th>75%</th>\n",
       "      <td>6.254811e-01</td>\n",
       "      <td>5.662445e-01</td>\n",
       "      <td>5.733569e-01</td>\n",
       "      <td>4.016388e-01</td>\n",
       "      <td>3.404346e-01</td>\n",
       "      <td>8.074313e-01</td>\n",
       "      <td>6.505064e-01</td>\n",
       "      <td>3.091517e-01</td>\n",
       "      <td>-3.663175e-01</td>\n",
       "    </tr>\n",
       "    <tr>\n",
       "      <th>max</th>\n",
       "      <td>2.095684e+00</td>\n",
       "      <td>2.158807e+00</td>\n",
       "      <td>2.223930e+00</td>\n",
       "      <td>2.462046e+00</td>\n",
       "      <td>3.048077e+00</td>\n",
       "      <td>1.771036e+00</td>\n",
       "      <td>2.651165e+00</td>\n",
       "      <td>2.197185e+00</td>\n",
       "      <td>3.689529e+00</td>\n",
       "    </tr>\n",
       "  </tbody>\n",
       "</table>\n",
       "</div>"
      ],
      "text/plain": [
       "                  0             1             2             3             4  \\\n",
       "count  1.710000e+02  1.710000e+02  1.710000e+02  1.710000e+02  1.710000e+02   \n",
       "mean   1.547657e-16 -1.168656e-17 -1.817909e-17  2.986565e-17  1.077760e-16   \n",
       "std    1.002937e+00  1.002937e+00  1.002937e+00  1.002937e+00  1.002937e+00   \n",
       "min   -1.212273e+00 -7.078056e-01 -7.471015e-01 -6.285647e-01 -1.013387e+00   \n",
       "25%   -8.447219e-01 -7.078056e-01 -7.471015e-01 -6.285647e-01 -5.621129e-01   \n",
       "50%   -1.096204e-01 -7.078056e-01 -7.471015e-01 -6.285647e-01 -5.621129e-01   \n",
       "75%    6.254811e-01  5.662445e-01  5.733569e-01  4.016388e-01  3.404346e-01   \n",
       "max    2.095684e+00  2.158807e+00  2.223930e+00  2.462046e+00  3.048077e+00   \n",
       "\n",
       "                  5             6             7             8  \n",
       "count  1.710000e+02  1.710000e+02  1.710000e+02  1.710000e+02  \n",
       "mean  -8.699993e-17  1.834140e-17 -9.771261e-17 -2.791789e-17  \n",
       "std    1.002937e+00  1.002937e+00  1.002937e+00  1.002937e+00  \n",
       "min   -7.068043e-01 -9.500202e-01 -6.348652e-01 -3.663175e-01  \n",
       "25%   -7.068043e-01 -9.500202e-01 -6.348652e-01 -3.663175e-01  \n",
       "50%   -7.068043e-01 -5.498885e-01 -6.348652e-01 -3.663175e-01  \n",
       "75%    8.074313e-01  6.505064e-01  3.091517e-01 -3.663175e-01  \n",
       "max    1.771036e+00  2.651165e+00  2.197185e+00  3.689529e+00  "
      ]
     },
     "execution_count": 45,
     "metadata": {},
     "output_type": "execute_result"
    }
   ],
   "source": [
    "scaler_standard.fit(x_train)\n",
    "x_scaler_standard_train = scaler_standard.transform(x_train)\n",
    "pd.DataFrame(x_scaler_standard).describe()"
   ]
  },
  {
   "cell_type": "code",
   "execution_count": 46,
   "id": "38ff6108-8fd2-4ded-961d-445a12d969d0",
   "metadata": {},
   "outputs": [
    {
     "data": {
      "text/html": [
       "<div>\n",
       "<style scoped>\n",
       "    .dataframe tbody tr th:only-of-type {\n",
       "        vertical-align: middle;\n",
       "    }\n",
       "\n",
       "    .dataframe tbody tr th {\n",
       "        vertical-align: top;\n",
       "    }\n",
       "\n",
       "    .dataframe thead th {\n",
       "        text-align: right;\n",
       "    }\n",
       "</style>\n",
       "<table border=\"1\" class=\"dataframe\">\n",
       "  <thead>\n",
       "    <tr style=\"text-align: right;\">\n",
       "      <th></th>\n",
       "      <th>0</th>\n",
       "      <th>1</th>\n",
       "      <th>2</th>\n",
       "      <th>3</th>\n",
       "      <th>4</th>\n",
       "      <th>5</th>\n",
       "      <th>6</th>\n",
       "      <th>7</th>\n",
       "      <th>8</th>\n",
       "    </tr>\n",
       "  </thead>\n",
       "  <tbody>\n",
       "    <tr>\n",
       "      <th>count</th>\n",
       "      <td>171.000000</td>\n",
       "      <td>171.000000</td>\n",
       "      <td>171.000000</td>\n",
       "      <td>171.000000</td>\n",
       "      <td>171.000000</td>\n",
       "      <td>171.000000</td>\n",
       "      <td>171.000000</td>\n",
       "      <td>171.000000</td>\n",
       "      <td>171.000000</td>\n",
       "    </tr>\n",
       "    <tr>\n",
       "      <th>mean</th>\n",
       "      <td>0.121175</td>\n",
       "      <td>0.083483</td>\n",
       "      <td>0.039700</td>\n",
       "      <td>-0.021605</td>\n",
       "      <td>0.114263</td>\n",
       "      <td>-0.028149</td>\n",
       "      <td>0.035612</td>\n",
       "      <td>0.105430</td>\n",
       "      <td>-0.009802</td>\n",
       "    </tr>\n",
       "    <tr>\n",
       "      <th>std</th>\n",
       "      <td>0.941174</td>\n",
       "      <td>1.069038</td>\n",
       "      <td>1.002747</td>\n",
       "      <td>0.987654</td>\n",
       "      <td>1.071204</td>\n",
       "      <td>1.003453</td>\n",
       "      <td>1.103943</td>\n",
       "      <td>1.089918</td>\n",
       "      <td>1.048292</td>\n",
       "    </tr>\n",
       "    <tr>\n",
       "      <th>min</th>\n",
       "      <td>-1.174173</td>\n",
       "      <td>-0.693631</td>\n",
       "      <td>-0.731909</td>\n",
       "      <td>-0.642378</td>\n",
       "      <td>-0.995936</td>\n",
       "      <td>-0.706043</td>\n",
       "      <td>-1.016165</td>\n",
       "      <td>-0.600888</td>\n",
       "      <td>-0.354868</td>\n",
       "    </tr>\n",
       "    <tr>\n",
       "      <th>25%</th>\n",
       "      <td>-0.474317</td>\n",
       "      <td>-0.693631</td>\n",
       "      <td>-0.731909</td>\n",
       "      <td>-0.642378</td>\n",
       "      <td>-0.537376</td>\n",
       "      <td>-0.706043</td>\n",
       "      <td>-1.016165</td>\n",
       "      <td>-0.600888</td>\n",
       "      <td>-0.354868</td>\n",
       "    </tr>\n",
       "    <tr>\n",
       "      <th>50%</th>\n",
       "      <td>0.225540</td>\n",
       "      <td>-0.693631</td>\n",
       "      <td>-0.397023</td>\n",
       "      <td>-0.642378</td>\n",
       "      <td>-0.537376</td>\n",
       "      <td>-0.706043</td>\n",
       "      <td>-0.177686</td>\n",
       "      <td>-0.600888</td>\n",
       "      <td>-0.354868</td>\n",
       "    </tr>\n",
       "    <tr>\n",
       "      <th>75%</th>\n",
       "      <td>0.575468</td>\n",
       "      <td>0.635234</td>\n",
       "      <td>0.607635</td>\n",
       "      <td>0.053701</td>\n",
       "      <td>0.609026</td>\n",
       "      <td>0.392723</td>\n",
       "      <td>0.660794</td>\n",
       "      <td>0.573367</td>\n",
       "      <td>-0.354868</td>\n",
       "    </tr>\n",
       "    <tr>\n",
       "      <th>max</th>\n",
       "      <td>1.975181</td>\n",
       "      <td>2.296314</td>\n",
       "      <td>2.282064</td>\n",
       "      <td>2.489978</td>\n",
       "      <td>3.131108</td>\n",
       "      <td>1.766180</td>\n",
       "      <td>2.756993</td>\n",
       "      <td>2.418624</td>\n",
       "      <td>4.903108</td>\n",
       "    </tr>\n",
       "  </tbody>\n",
       "</table>\n",
       "</div>"
      ],
      "text/plain": [
       "                0           1           2           3           4           5  \\\n",
       "count  171.000000  171.000000  171.000000  171.000000  171.000000  171.000000   \n",
       "mean     0.121175    0.083483    0.039700   -0.021605    0.114263   -0.028149   \n",
       "std      0.941174    1.069038    1.002747    0.987654    1.071204    1.003453   \n",
       "min     -1.174173   -0.693631   -0.731909   -0.642378   -0.995936   -0.706043   \n",
       "25%     -0.474317   -0.693631   -0.731909   -0.642378   -0.537376   -0.706043   \n",
       "50%      0.225540   -0.693631   -0.397023   -0.642378   -0.537376   -0.706043   \n",
       "75%      0.575468    0.635234    0.607635    0.053701    0.609026    0.392723   \n",
       "max      1.975181    2.296314    2.282064    2.489978    3.131108    1.766180   \n",
       "\n",
       "                6           7           8  \n",
       "count  171.000000  171.000000  171.000000  \n",
       "mean     0.035612    0.105430   -0.009802  \n",
       "std      1.103943    1.089918    1.048292  \n",
       "min     -1.016165   -0.600888   -0.354868  \n",
       "25%     -1.016165   -0.600888   -0.354868  \n",
       "50%     -0.177686   -0.600888   -0.354868  \n",
       "75%      0.660794    0.573367   -0.354868  \n",
       "max      2.756993    2.418624    4.903108  "
      ]
     },
     "execution_count": 46,
     "metadata": {},
     "output_type": "execute_result"
    }
   ],
   "source": [
    "#scaler_standard.fit()\n",
    "x_scaler_standard_test = scaler_standard.transform(x_test)\n",
    "pd.DataFrame(x_scaler_standard_test).describe()"
   ]
  },
  {
   "cell_type": "code",
   "execution_count": null,
   "id": "5b6cb28e-3b3c-4ba7-8fc1-ff975bdaccff",
   "metadata": {},
   "outputs": [],
   "source": []
  },
  {
   "cell_type": "markdown",
   "id": "6dc17768-d1da-4ad1-8130-0b30342e7e2b",
   "metadata": {
    "jp-MarkdownHeadingCollapsed": true,
    "tags": []
   },
   "source": [
    "### 4. 모델 학습 _ [based on min_max_reg data]"
   ]
  },
  {
   "cell_type": "code",
   "execution_count": 48,
   "id": "988f6231-c685-4901-8ee2-e0267dfa49c3",
   "metadata": {},
   "outputs": [],
   "source": [
    "from sklearn.linear_model import LogisticRegression "
   ]
  },
  {
   "cell_type": "code",
   "execution_count": 83,
   "id": "3f71b959-1de7-422d-abd9-91bb3bef0a7a",
   "metadata": {},
   "outputs": [
    {
     "data": {
      "text/plain": [
       "LogisticRegression()"
      ]
     },
     "execution_count": 83,
     "metadata": {},
     "output_type": "execute_result"
    }
   ],
   "source": [
    "model = LogisticRegression()\n",
    "model.fit(x_scaler_minmax_train, y_train)"
   ]
  },
  {
   "cell_type": "markdown",
   "id": "0556bbe4-3092-4388-ac1a-4232211f2b0a",
   "metadata": {},
   "source": [
    "#### *train set 결과 "
   ]
  },
  {
   "cell_type": "code",
   "execution_count": 52,
   "id": "0a7158cf-d142-4568-b722-51d8ac8b0508",
   "metadata": {},
   "outputs": [
    {
     "data": {
      "text/plain": [
       "0.97265625"
      ]
     },
     "execution_count": 52,
     "metadata": {},
     "output_type": "execute_result"
    }
   ],
   "source": [
    "pred_train = model.predict(x_scaler_minmax_train)  # x train 데이터를 학습된 model에 넣고 돌린 예측 결과값 \n",
    "model.score(x_scaler_minmax_train, y_train)     # x train 데이터를 학습된 model에 놓고 돌린 후 --> 그 y^을 실제 train y 값과 비교."
   ]
  },
  {
   "cell_type": "markdown",
   "id": "d5e908d9-eba1-4c10-8379-c9282ea65ca6",
   "metadata": {},
   "source": [
    "#### *test set 결과"
   ]
  },
  {
   "cell_type": "code",
   "execution_count": 58,
   "id": "5fbb5754-779f-4117-aa12-08055e81b403",
   "metadata": {},
   "outputs": [
    {
     "data": {
      "text/plain": [
       "0.9590643274853801"
      ]
     },
     "execution_count": 58,
     "metadata": {},
     "output_type": "execute_result"
    }
   ],
   "source": [
    "pred_test = model.predict(x_scaler_minmax_test)\n",
    "model.score(x_scaler_minmax_test,y_test)"
   ]
  },
  {
   "cell_type": "markdown",
   "id": "14d677df-0658-431b-8257-0a79a5dcca19",
   "metadata": {},
   "source": [
    "#### *혼동 오차 행렬 [ confusion matrix ] "
   ]
  },
  {
   "cell_type": "code",
   "execution_count": 60,
   "id": "9825de2b-b02f-4761-9ab5-ddd60f53e955",
   "metadata": {},
   "outputs": [],
   "source": [
    "from sklearn.metrics import confusion_matrix"
   ]
  },
  {
   "cell_type": "code",
   "execution_count": 64,
   "id": "fe6ed0e8-79f4-411a-9006-da261aa3a359",
   "metadata": {},
   "outputs": [
    {
     "name": "stdout",
     "output_type": "stream",
     "text": [
      "train_dataset and pred_train confusion_matrix : \n",
      " [[328   5]\n",
      " [  9 170]]\n"
     ]
    }
   ],
   "source": [
    "confusion_train = confusion_matrix(y_train,pred_train)\n",
    "print(\"train_dataset and pred_train confusion_matrix : \\n\", confusion_train)"
   ]
  },
  {
   "cell_type": "code",
   "execution_count": 65,
   "id": "a7f00307-8d8a-4e31-a4d4-014c1162617c",
   "metadata": {},
   "outputs": [
    {
     "name": "stdout",
     "output_type": "stream",
     "text": [
      "test_dataset and pred_test confusion_matrix : \n",
      " [[106   5]\n",
      " [  2  58]]\n"
     ]
    }
   ],
   "source": [
    "confusion_test = confusion_matrix(y_test,pred_test)\n",
    "print(\"test_dataset and pred_test confusion_matrix : \\n\", confusion_test)"
   ]
  },
  {
   "cell_type": "markdown",
   "id": "8b8f62b8-e6e0-4fc4-8590-4151443d5644",
   "metadata": {
    "jp-MarkdownHeadingCollapsed": true,
    "tags": []
   },
   "source": [
    "##  <span style=\"color:yellow\"> <font size=\"5\">[REPORT] Logistic Regression _ Result   </span> </font> "
   ]
  },
  {
   "cell_type": "code",
   "execution_count": 66,
   "id": "970f3d39-9049-4276-a4b6-13ed6ad57f59",
   "metadata": {},
   "outputs": [],
   "source": [
    "from sklearn.metrics import classification_report "
   ]
  },
  {
   "cell_type": "code",
   "execution_count": 67,
   "id": "b40be705-92a1-40a3-b7a3-ae28d4a21633",
   "metadata": {},
   "outputs": [
    {
     "name": "stdout",
     "output_type": "stream",
     "text": [
      "분류 예측 모델 _train dataset : \n",
      "               precision    recall  f1-score   support\n",
      "\n",
      "           0       0.97      0.98      0.98       333\n",
      "           1       0.97      0.95      0.96       179\n",
      "\n",
      "    accuracy                           0.97       512\n",
      "   macro avg       0.97      0.97      0.97       512\n",
      "weighted avg       0.97      0.97      0.97       512\n",
      "\n"
     ]
    }
   ],
   "source": [
    "cfreport_train = classification_report(y_train, pred_train)\n",
    "print(\"분류 예측 모델 _train dataset : \\n\" , cfreport_train)"
   ]
  },
  {
   "cell_type": "code",
   "execution_count": 68,
   "id": "6f83214d-13dc-47c1-a528-6a068da8f2a1",
   "metadata": {},
   "outputs": [
    {
     "name": "stdout",
     "output_type": "stream",
     "text": [
      "분류 예측 모델 _test dataset : \n",
      "               precision    recall  f1-score   support\n",
      "\n",
      "           0       0.98      0.95      0.97       111\n",
      "           1       0.92      0.97      0.94        60\n",
      "\n",
      "    accuracy                           0.96       171\n",
      "   macro avg       0.95      0.96      0.96       171\n",
      "weighted avg       0.96      0.96      0.96       171\n",
      "\n"
     ]
    }
   ],
   "source": [
    "cfreport_test = classification_report(y_test, pred_test)\n",
    "print(\"분류 예측 모델 _test dataset : \\n\" , cfreport_test)"
   ]
  },
  {
   "cell_type": "markdown",
   "id": "106a5beb-2081-48c1-b2fb-631faa7faf16",
   "metadata": {},
   "source": [
    "#"
   ]
  },
  {
   "cell_type": "markdown",
   "id": "6fc5c0fa-7a9f-4214-b2fd-2732b9de244d",
   "metadata": {
    "jp-MarkdownHeadingCollapsed": true,
    "tags": []
   },
   "source": [
    "## <span style=\"color:yellow\"> <font size=\"5\"> ROC CURVE Graph  </span> </font> "
   ]
  },
  {
   "cell_type": "code",
   "execution_count": 70,
   "id": "f4250918-bd9e-4ecb-b69c-2e67b812bbcd",
   "metadata": {},
   "outputs": [],
   "source": [
    "from sklearn.metrics import roc_curve, auc\n",
    "from sklearn import metrics "
   ]
  },
  {
   "cell_type": "code",
   "execution_count": 73,
   "id": "66e95edb-f877-4db2-a5ab-b8059e99bd0d",
   "metadata": {},
   "outputs": [
    {
     "data": {
      "text/plain": [
       "0.9923423423423423"
      ]
     },
     "execution_count": 73,
     "metadata": {},
     "output_type": "execute_result"
    }
   ],
   "source": [
    "fp_rate , tp_rate, thresholds = roc_curve(y_test, model.decision_function(x_scaler_minmax_test))\n",
    "roc_auc = metrics.roc_auc_score(y_test, model.decision_function(x_scaler_minmax_test))\n",
    "roc_auc"
   ]
  },
  {
   "cell_type": "code",
   "execution_count": 74,
   "id": "32023331-ce0f-4a24-88f1-e34ed61296f9",
   "metadata": {},
   "outputs": [],
   "source": [
    "import matplotlib.pyplot as plt "
   ]
  },
  {
   "cell_type": "code",
   "execution_count": 81,
   "id": "3e35eae3-0bae-48cb-b16c-5f2d53127cb0",
   "metadata": {},
   "outputs": [
    {
     "data": {
      "image/png": "[encoded data removed]",
      "text/plain": [
       "<Figure size 432x288 with 1 Axes>"
      ]
     },
     "metadata": {
      "needs_background": "light"
     },
     "output_type": "display_data"
    }
   ],
   "source": [
    "plt.title(\"ROC_CURVE\")\n",
    "plt.xlabel('FP_Rate (1-specificity)')\n",
    "plt.ylabel('TP_Rate (sensitivity)') \n",
    "\n",
    "plt.plot(fp_rate, tp_rate, \"b\", label = 'Model (AUC = %0.2f)'% roc_auc)\n",
    "plt.plot([0,1],[1,1],'y--')\n",
    "plt.plot([0,1],[1,1],'r--')\n",
    "\n",
    "plt.legend(loc = \"lower right\")\n",
    "plt.show()"
   ]
  },
  {
   "cell_type": "markdown",
   "id": "005f5c96-0adb-44b7-99ca-329299125f7d",
   "metadata": {},
   "source": [
    "#"
   ]
  },
  {
   "cell_type": "markdown",
   "id": "f462fc94-4278-4a22-94ed-fa43cfd8aeaf",
   "metadata": {},
   "source": [
    "## <span style=\"color:yellow\"> <font size=\"5\"> 예측값 병합 및 저장  </span> </font> "
   ]
  },
  {
   "cell_type": "markdown",
   "id": "ca6288c0-e6ff-4d69-8460-1f05653952e2",
   "metadata": {},
   "source": [
    "## predict_proba 함수 --> row별로 각각의 독립변수 조건들을 토대로 y값을 결정함. \n",
    "\n",
    "## 그 과정에서 과연 y값이 0이냐 1이냐 ( 해당 데이터는 정상(0), 유방암(1) 이냐를 판단 )\n",
    "\n",
    "## 몇 %의 확률로 0인지 1인지를 결정하는지 확인해 주는 함수 ."
   ]
  },
  {
   "cell_type": "markdown",
   "id": "cb3056ed-1078-48ff-b3b6-e12c753e2218",
   "metadata": {},
   "source": [
    "## "
   ]
  },
  {
   "cell_type": "markdown",
   "id": "bc673f7b-0456-490d-87d9-4e1d5e3f8eaa",
   "metadata": {
    "jp-MarkdownHeadingCollapsed": true,
    "tags": []
   },
   "source": [
    "#### train dataset을 기반 --> 예측확률 데이터를 추가"
   ]
  },
  {
   "cell_type": "code",
   "execution_count": 86,
   "id": "1ec5c12e-8f97-4b94-ae76-678c115a90d6",
   "metadata": {},
   "outputs": [],
   "source": [
    "prod_train = model.predict_proba(x_scaler_minmax_train)"
   ]
  },
  {
   "cell_type": "code",
   "execution_count": 88,
   "id": "5990043d-f597-4cb8-841b-367f37ea9047",
   "metadata": {},
   "outputs": [
    {
     "data": {
      "text/plain": [
       "array([[0.98101387, 0.01898613],\n",
       "       [0.7681914 , 0.2318086 ],\n",
       "       [0.96643115, 0.03356885],\n",
       "       ...,\n",
       "       [0.11344041, 0.88655959],\n",
       "       [0.98740488, 0.01259512],\n",
       "       [0.99046984, 0.00953016]])"
      ]
     },
     "execution_count": 88,
     "metadata": {},
     "output_type": "execute_result"
    }
   ],
   "source": [
    "prod_train # Y값이 0이냐 1이냐, 확률이 어느정도 인가를 보여줌. "
   ]
  },
  {
   "cell_type": "code",
   "execution_count": 91,
   "id": "87ba8ad8-8ad0-4f62-910e-68fb7d65a4f4",
   "metadata": {},
   "outputs": [],
   "source": [
    "y_train['y_pred'] = pred_train"
   ]
  },
  {
   "cell_type": "code",
   "execution_count": 94,
   "id": "3ef9bc10-c10d-4212-9688-b5b48fb78c64",
   "metadata": {},
   "outputs": [],
   "source": [
    "y_train[['y_prob0(정상으로 판단할 확률)','y_prob1(유방암으로 판단할 확률)']] = prod_train"
   ]
  },
  {
   "cell_type": "code",
   "execution_count": 95,
   "id": "1dfd1cf7-800a-48cd-b3a9-3ac1eabd3dfd",
   "metadata": {},
   "outputs": [
    {
     "data": {
      "text/html": [
       "<div>\n",
       "<style scoped>\n",
       "    .dataframe tbody tr th:only-of-type {\n",
       "        vertical-align: middle;\n",
       "    }\n",
       "\n",
       "    .dataframe tbody tr th {\n",
       "        vertical-align: top;\n",
       "    }\n",
       "\n",
       "    .dataframe thead th {\n",
       "        text-align: right;\n",
       "    }\n",
       "</style>\n",
       "<table border=\"1\" class=\"dataframe\">\n",
       "  <thead>\n",
       "    <tr style=\"text-align: right;\">\n",
       "      <th></th>\n",
       "      <th>Class</th>\n",
       "      <th>y_pred</th>\n",
       "      <th>y_prob0(정상으로 판단할 확률)</th>\n",
       "      <th>y_prob1(유방암으로 판단할 확률)</th>\n",
       "    </tr>\n",
       "  </thead>\n",
       "  <tbody>\n",
       "    <tr>\n",
       "      <th>131</th>\n",
       "      <td>0</td>\n",
       "      <td>0</td>\n",
       "      <td>0.981014</td>\n",
       "      <td>0.018986</td>\n",
       "    </tr>\n",
       "    <tr>\n",
       "      <th>6</th>\n",
       "      <td>0</td>\n",
       "      <td>0</td>\n",
       "      <td>0.768191</td>\n",
       "      <td>0.231809</td>\n",
       "    </tr>\n",
       "    <tr>\n",
       "      <th>0</th>\n",
       "      <td>0</td>\n",
       "      <td>0</td>\n",
       "      <td>0.966431</td>\n",
       "      <td>0.033569</td>\n",
       "    </tr>\n",
       "  </tbody>\n",
       "</table>\n",
       "</div>"
      ],
      "text/plain": [
       "     Class  y_pred  y_prob0(정상으로 판단할 확률)  y_prob1(유방암으로 판단할 확률)\n",
       "131      0       0              0.981014               0.018986\n",
       "6        0       0              0.768191               0.231809\n",
       "0        0       0              0.966431               0.033569"
      ]
     },
     "execution_count": 95,
     "metadata": {},
     "output_type": "execute_result"
    }
   ],
   "source": [
    "y_train.head(3) # _ Train dataset을 기준으로! "
   ]
  },
  {
   "cell_type": "markdown",
   "id": "99306db7-c143-42f9-9b57-a418f3006cd0",
   "metadata": {
    "jp-MarkdownHeadingCollapsed": true,
    "tags": []
   },
   "source": [
    "#### test dataset을 기반 --> 예측확률 데이터를 추가"
   ]
  },
  {
   "cell_type": "code",
   "execution_count": 97,
   "id": "54cec546-442f-49ee-a9ea-2d61c5b3878d",
   "metadata": {},
   "outputs": [],
   "source": [
    "prod_test = model.predict_proba(x_scaler_minmax_test)"
   ]
  },
  {
   "cell_type": "code",
   "execution_count": 99,
   "id": "1db77d43-39c8-4156-b710-71f93e8b558b",
   "metadata": {},
   "outputs": [
    {
     "data": {
      "text/plain": [
       "array([[0.97088661, 0.02911339],\n",
       "       [0.94357177, 0.05642823],\n",
       "       [0.97937032, 0.02062968],\n",
       "       [0.00130504, 0.99869496]])"
      ]
     },
     "execution_count": 99,
     "metadata": {},
     "output_type": "execute_result"
    }
   ],
   "source": [
    "prod_test[1:5]"
   ]
  },
  {
   "cell_type": "code",
   "execution_count": 103,
   "id": "07982044-3d9a-43ce-8b95-03e67d324dc1",
   "metadata": {},
   "outputs": [],
   "source": [
    "y_test['y_pred'] = pred_test"
   ]
  },
  {
   "cell_type": "code",
   "execution_count": 105,
   "id": "be24995a-b696-45a7-a2bd-a7acf374f3fd",
   "metadata": {},
   "outputs": [],
   "source": [
    "y_test[['y_prob0(정상으로 판단할 확률)','y_prob1(유방암으로 판단할 확률)']] = prod_test"
   ]
  },
  {
   "cell_type": "code",
   "execution_count": 107,
   "id": "6dabd734-4968-4939-b27d-e9af39495846",
   "metadata": {},
   "outputs": [
    {
     "data": {
      "text/html": [
       "<div>\n",
       "<style scoped>\n",
       "    .dataframe tbody tr th:only-of-type {\n",
       "        vertical-align: middle;\n",
       "    }\n",
       "\n",
       "    .dataframe tbody tr th {\n",
       "        vertical-align: top;\n",
       "    }\n",
       "\n",
       "    .dataframe thead th {\n",
       "        text-align: right;\n",
       "    }\n",
       "</style>\n",
       "<table border=\"1\" class=\"dataframe\">\n",
       "  <thead>\n",
       "    <tr style=\"text-align: right;\">\n",
       "      <th></th>\n",
       "      <th>Class</th>\n",
       "      <th>y_pred</th>\n",
       "      <th>y_prob0(정상으로 판단할 확률)</th>\n",
       "      <th>y_prob1(유방암으로 판단할 확률)</th>\n",
       "    </tr>\n",
       "  </thead>\n",
       "  <tbody>\n",
       "    <tr>\n",
       "      <th>541</th>\n",
       "      <td>0</td>\n",
       "      <td>0</td>\n",
       "      <td>0.955893</td>\n",
       "      <td>0.044107</td>\n",
       "    </tr>\n",
       "    <tr>\n",
       "      <th>549</th>\n",
       "      <td>0</td>\n",
       "      <td>0</td>\n",
       "      <td>0.970887</td>\n",
       "      <td>0.029113</td>\n",
       "    </tr>\n",
       "    <tr>\n",
       "      <th>318</th>\n",
       "      <td>0</td>\n",
       "      <td>0</td>\n",
       "      <td>0.943572</td>\n",
       "      <td>0.056428</td>\n",
       "    </tr>\n",
       "  </tbody>\n",
       "</table>\n",
       "</div>"
      ],
      "text/plain": [
       "     Class  y_pred  y_prob0(정상으로 판단할 확률)  y_prob1(유방암으로 판단할 확률)\n",
       "541      0       0              0.955893               0.044107\n",
       "549      0       0              0.970887               0.029113\n",
       "318      0       0              0.943572               0.056428"
      ]
     },
     "execution_count": 107,
     "metadata": {},
     "output_type": "execute_result"
    }
   ],
   "source": [
    "y_test.head(3)"
   ]
  },
  {
   "cell_type": "markdown",
   "id": "e9fe1d07-2061-4470-acab-71c679b823be",
   "metadata": {},
   "source": [
    "#### data 병합 처리 "
   ]
  },
  {
   "cell_type": "code",
   "execution_count": 109,
   "id": "c8943822-c669-48e9-b083-d81172c209ce",
   "metadata": {},
   "outputs": [],
   "source": [
    "total_test = pd.concat([x_test,y_test],axis=1)"
   ]
  },
  {
   "cell_type": "code",
   "execution_count": 111,
   "id": "0d2a61f8-d443-4857-88ed-ad9959539cec",
   "metadata": {},
   "outputs": [
    {
     "data": {
      "text/html": [
       "<div>\n",
       "<style scoped>\n",
       "    .dataframe tbody tr th:only-of-type {\n",
       "        vertical-align: middle;\n",
       "    }\n",
       "\n",
       "    .dataframe tbody tr th {\n",
       "        vertical-align: top;\n",
       "    }\n",
       "\n",
       "    .dataframe thead th {\n",
       "        text-align: right;\n",
       "    }\n",
       "</style>\n",
       "<table border=\"1\" class=\"dataframe\">\n",
       "  <thead>\n",
       "    <tr style=\"text-align: right;\">\n",
       "      <th></th>\n",
       "      <th>Clump_Thickness</th>\n",
       "      <th>Cell_Size</th>\n",
       "      <th>Cell_Shape</th>\n",
       "      <th>Marginal_Adhesion</th>\n",
       "      <th>Single_Epithelial_Cell_Size</th>\n",
       "      <th>Bare_Nuclei</th>\n",
       "      <th>Bland_Chromatin</th>\n",
       "      <th>Normal_Nucleoli</th>\n",
       "      <th>Mitoses</th>\n",
       "      <th>Class</th>\n",
       "      <th>y_pred</th>\n",
       "      <th>y_prob0(정상으로 판단할 확률)</th>\n",
       "      <th>y_prob1(유방암으로 판단할 확률)</th>\n",
       "    </tr>\n",
       "  </thead>\n",
       "  <tbody>\n",
       "    <tr>\n",
       "      <th>541</th>\n",
       "      <td>5</td>\n",
       "      <td>2</td>\n",
       "      <td>2</td>\n",
       "      <td>2</td>\n",
       "      <td>1</td>\n",
       "      <td>1</td>\n",
       "      <td>2</td>\n",
       "      <td>1</td>\n",
       "      <td>1</td>\n",
       "      <td>0</td>\n",
       "      <td>0</td>\n",
       "      <td>0.955893</td>\n",
       "      <td>0.044107</td>\n",
       "    </tr>\n",
       "    <tr>\n",
       "      <th>549</th>\n",
       "      <td>4</td>\n",
       "      <td>1</td>\n",
       "      <td>1</td>\n",
       "      <td>1</td>\n",
       "      <td>2</td>\n",
       "      <td>1</td>\n",
       "      <td>3</td>\n",
       "      <td>2</td>\n",
       "      <td>1</td>\n",
       "      <td>0</td>\n",
       "      <td>0</td>\n",
       "      <td>0.970887</td>\n",
       "      <td>0.029113</td>\n",
       "    </tr>\n",
       "    <tr>\n",
       "      <th>318</th>\n",
       "      <td>5</td>\n",
       "      <td>2</td>\n",
       "      <td>2</td>\n",
       "      <td>2</td>\n",
       "      <td>2</td>\n",
       "      <td>1</td>\n",
       "      <td>2</td>\n",
       "      <td>2</td>\n",
       "      <td>1</td>\n",
       "      <td>0</td>\n",
       "      <td>0</td>\n",
       "      <td>0.943572</td>\n",
       "      <td>0.056428</td>\n",
       "    </tr>\n",
       "  </tbody>\n",
       "</table>\n",
       "</div>"
      ],
      "text/plain": [
       "     Clump_Thickness  Cell_Size  Cell_Shape  Marginal_Adhesion  \\\n",
       "541                5          2           2                  2   \n",
       "549                4          1           1                  1   \n",
       "318                5          2           2                  2   \n",
       "\n",
       "     Single_Epithelial_Cell_Size  Bare_Nuclei  Bland_Chromatin  \\\n",
       "541                            1            1                2   \n",
       "549                            2            1                3   \n",
       "318                            2            1                2   \n",
       "\n",
       "     Normal_Nucleoli  Mitoses  Class  y_pred  y_prob0(정상으로 판단할 확률)  \\\n",
       "541                1        1      0       0              0.955893   \n",
       "549                2        1      0       0              0.970887   \n",
       "318                2        1      0       0              0.943572   \n",
       "\n",
       "     y_prob1(유방암으로 판단할 확률)  \n",
       "541               0.044107  \n",
       "549               0.029113  \n",
       "318               0.056428  "
      ]
     },
     "execution_count": 111,
     "metadata": {},
     "output_type": "execute_result"
    }
   ],
   "source": [
    "total_test.head(3)"
   ]
  },
  {
   "cell_type": "markdown",
   "id": "06390b13-b685-4222-b212-39717a511dd7",
   "metadata": {},
   "source": [
    "total_test.to_csv('total_Test_result.csv') "
   ]
  }
 ],
 "metadata": {
  "kernelspec": {
   "display_name": "Python 3 (ipykernel)",
   "language": "python",
   "name": "python3"
  },
  "language_info": {
   "codemirror_mode": {
    "name": "ipython",
    "version": 3
   },
   "file_extension": ".py",
   "mimetype": "text/x-python",
   "name": "python",
   "nbconvert_exporter": "python",
   "pygments_lexer": "ipython3",
   "version": "3.9.7"
  }
 },
 "nbformat": 4,
 "nbformat_minor": 5
}
